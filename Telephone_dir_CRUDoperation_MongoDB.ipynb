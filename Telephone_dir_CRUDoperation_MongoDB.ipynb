{
 "cells": [
  {
   "cell_type": "markdown",
   "id": "d0e6a704",
   "metadata": {},
   "source": [
    "# Installation and Importing\n",
    "## Import necessary modules."
   ]
  },
  {
   "cell_type": "code",
   "execution_count": 1,
   "id": "46943da3",
   "metadata": {},
   "outputs": [
    {
     "name": "stdout",
     "output_type": "stream",
     "text": [
      "Requirement already satisfied: pymongo in c:\\users\\sundaram\\anaconda3\\lib\\site-packages (4.3.3)\n",
      "Requirement already satisfied: dnspython<3.0.0,>=1.16.0 in c:\\users\\sundaram\\anaconda3\\lib\\site-packages (from pymongo) (2.2.1)\n"
     ]
    }
   ],
   "source": [
    "!pip install pymongo"
   ]
  },
  {
   "cell_type": "code",
   "execution_count": 2,
   "id": "e36b4c0c",
   "metadata": {},
   "outputs": [],
   "source": [
    "from pymongo import MongoClient"
   ]
  },
  {
   "cell_type": "markdown",
   "id": "7c916ef8",
   "metadata": {},
   "source": [
    "# Connecting locally \n",
    "## Create a database using attribute style on a MongoClient instance. Declare a variable db and assign the new database as an attribute of the client."
   ]
  },
  {
   "cell_type": "code",
   "execution_count": 3,
   "id": "150c8b75",
   "metadata": {},
   "outputs": [],
   "source": [
    "client=MongoClient(\"mongodb://localhost:27017/\") # connecting locally"
   ]
  },
  {
   "cell_type": "code",
   "execution_count": 4,
   "id": "65da1b33",
   "metadata": {},
   "outputs": [
    {
     "data": {
      "text/plain": [
       "['admin', 'config', 'guvitaskdb', 'local']"
      ]
     },
     "execution_count": 4,
     "metadata": {},
     "output_type": "execute_result"
    }
   ],
   "source": [
    "client.list_database_names() # gives list of dbs names"
   ]
  },
  {
   "cell_type": "code",
   "execution_count": 5,
   "id": "e8b6b8b5",
   "metadata": {},
   "outputs": [],
   "source": [
    "db=client[\"guvitaskdb\"] # assigning desired database from the list above to a variable \"db\""
   ]
  },
  {
   "cell_type": "code",
   "execution_count": 6,
   "id": "0d1c35b4",
   "metadata": {},
   "outputs": [
    {
     "data": {
      "text/plain": [
       "['student_datacol']"
      ]
     },
     "execution_count": 6,
     "metadata": {},
     "output_type": "execute_result"
    }
   ],
   "source": [
    "db.list_collection_names() # gives list of collections in the db"
   ]
  },
  {
   "cell_type": "markdown",
   "id": "4d103aed",
   "metadata": {},
   "source": [
    "## Create a collection. "
   ]
  },
  {
   "cell_type": "code",
   "execution_count": 7,
   "id": "c84009f0",
   "metadata": {},
   "outputs": [],
   "source": [
    "mycol=db[\"Telephone\"]"
   ]
  },
  {
   "cell_type": "markdown",
   "id": "4c846780",
   "metadata": {},
   "source": [
    "## For CRUD operation, create a directory which has fields like Name, Phone number, Place etc., "
   ]
  },
  {
   "cell_type": "code",
   "execution_count": 10,
   "id": "727a8af1",
   "metadata": {},
   "outputs": [],
   "source": [
    "phone_list=[{\"Name\" : \"Kalki\",\n",
    "           \"Phone Number\": 1234567890,\n",
    "           \"Place\": \"Chennai\",\n",
    "            \"Age\" : 3},\n",
    "         {\"Name\" : \"Theeran\",\n",
    "           \"Phone Number\": 1234567800,\n",
    "           \"Place\": \"Chennai\",\n",
    "            \"Age\": 5},\n",
    "          {\"Name\" : \"Sai\",\n",
    "           \"Phone Number\": 1234567000,\n",
    "           \"Place\": \"Trichy\",\n",
    "            \"Age\": 30},\n",
    "            {\"Name\" : \"Sundar\",\n",
    "           \"Phone Number\": 1234560000,\n",
    "           \"Place\": \"Tirunelveli\",\n",
    "            \"Age\": 32},\n",
    "            {\"Name\" : \"Sethu\",\n",
    "           \"Phone Number\": 1234500000,\n",
    "           \"Place\": \"Thoothukudi\",\n",
    "            \"Age\": 68},\n",
    "            {\"Name\" : \"Raman\",\n",
    "           \"Phone Number\": 1234000000,\n",
    "           \"Place\": \"Thoothukudi\",\n",
    "            \"Age\": 56},\n",
    "            {\"Name\" : \"Subramanian\",\n",
    "           \"Phone Number\": 1230000000,\n",
    "           \"Place\": \"Chennai\",\n",
    "            \"Age\": 38},\n",
    "            {\"Name\" : \"Kalkandu\",\n",
    "           \"Phone Number\": 12000000000,\n",
    "           \"Place\": \"Trichy\",\n",
    "            \"Age\": 35},\n",
    "            {\"Name\" : \"Subbu\",\n",
    "           \"Phone Number\": 1000000000,\n",
    "           \"Place\": \"Thirunelveli\",\n",
    "            \"Age\": 31},\n",
    "            {\"Name\" : \"Lakshmi\",\n",
    "           \"Phone Number\": 1234567899,\n",
    "           \"Place\": \"Hyderabad\",\n",
    "            \"Age\": 23},\n",
    "            {\"Name\" : \"Janaki\",\n",
    "           \"Phone Number\": 1234567999,\n",
    "           \"Place\": \"Telengana\",\n",
    "            \"Age\": 33},\n",
    "            {\"Name\" : \"Mirra\",\n",
    "           \"Phone Number\": 1234569999,\n",
    "           \"Place\": \"Pune\",\n",
    "            \"Age\": 34}\n",
    "            \n",
    "         ]\n"
   ]
  },
  {
   "cell_type": "markdown",
   "id": "17631826",
   "metadata": {},
   "source": [
    "## Insert the record into the collection. "
   ]
  },
  {
   "cell_type": "code",
   "execution_count": 11,
   "id": "2131ef70",
   "metadata": {},
   "outputs": [
    {
     "data": {
      "text/plain": [
       "<pymongo.results.InsertManyResult at 0x1a09562ffd0>"
      ]
     },
     "execution_count": 11,
     "metadata": {},
     "output_type": "execute_result"
    }
   ],
   "source": [
    "mycol.insert_many(phone_list)"
   ]
  },
  {
   "cell_type": "code",
   "execution_count": 12,
   "id": "3620e9ff",
   "metadata": {},
   "outputs": [
    {
     "data": {
      "text/plain": [
       "['Telephone', 'student_datacol']"
      ]
     },
     "execution_count": 12,
     "metadata": {},
     "output_type": "execute_result"
    }
   ],
   "source": [
    "db.list_collection_names() # gives list of collections in the db"
   ]
  },
  {
   "cell_type": "markdown",
   "id": "a8029128",
   "metadata": {},
   "source": [
    "## Make a query to find records you just created.\n"
   ]
  },
  {
   "cell_type": "code",
   "execution_count": 13,
   "id": "1e7b7dcb",
   "metadata": {},
   "outputs": [
    {
     "name": "stdout",
     "output_type": "stream",
     "text": [
      "{'_id': ObjectId('63c817a2efeee3197b4dfbc6'), 'Name': 'Kalki', 'Phone Number': 1234567890, 'Place': 'Chennai', 'Age': 3}\n",
      "{'_id': ObjectId('63c817a2efeee3197b4dfbc7'), 'Name': 'Theeran', 'Phone Number': 1234567800, 'Place': 'Chennai', 'Age': 5}\n",
      "{'_id': ObjectId('63c817a2efeee3197b4dfbc8'), 'Name': 'Sai', 'Phone Number': 1234567000, 'Place': 'Trichy', 'Age': 30}\n",
      "{'_id': ObjectId('63c817a2efeee3197b4dfbc9'), 'Name': 'Sundar', 'Phone Number': 1234560000, 'Place': 'Tirunelveli', 'Age': 32}\n",
      "{'_id': ObjectId('63c817a2efeee3197b4dfbca'), 'Name': 'Sethu', 'Phone Number': 1234500000, 'Place': 'Thoothukudi', 'Age': 68}\n",
      "{'_id': ObjectId('63c817a2efeee3197b4dfbcb'), 'Name': 'Raman', 'Phone Number': 1234000000, 'Place': 'Thoothukudi', 'Age': 56}\n",
      "{'_id': ObjectId('63c817a2efeee3197b4dfbcc'), 'Name': 'Subramanian', 'Phone Number': 1230000000, 'Place': 'Chennai', 'Age': 38}\n",
      "{'_id': ObjectId('63c817a2efeee3197b4dfbcd'), 'Name': 'Kalkandu', 'Phone Number': 12000000000, 'Place': 'Trichy', 'Age': 35}\n",
      "{'_id': ObjectId('63c817a2efeee3197b4dfbce'), 'Name': 'Subbu', 'Phone Number': 1000000000, 'Place': 'Thirunelveli', 'Age': 31}\n",
      "{'_id': ObjectId('63c817a2efeee3197b4dfbcf'), 'Name': 'Lakshmi', 'Phone Number': 1234567899, 'Place': 'Hyderabad', 'Age': 23}\n",
      "{'_id': ObjectId('63c817a2efeee3197b4dfbd0'), 'Name': 'Janaki', 'Phone Number': 1234567999, 'Place': 'Telengana', 'Age': 33}\n",
      "{'_id': ObjectId('63c817a2efeee3197b4dfbd1'), 'Name': 'Mirra', 'Phone Number': 1234569999, 'Place': 'Pune', 'Age': 34}\n"
     ]
    }
   ],
   "source": [
    "for i in mycol.find():\n",
    "    print(i)"
   ]
  },
  {
   "cell_type": "code",
   "execution_count": 16,
   "id": "be0d3a48",
   "metadata": {},
   "outputs": [
    {
     "name": "stdout",
     "output_type": "stream",
     "text": [
      "{'_id': ObjectId('63c817a2efeee3197b4dfbca'), 'Name': 'Sethu', 'Phone Number': 1234500000, 'Place': 'Thoothukudi', 'Age': 68}\n",
      "{'_id': ObjectId('63c817a2efeee3197b4dfbcb'), 'Name': 'Raman', 'Phone Number': 1234000000, 'Place': 'Thoothukudi', 'Age': 56}\n"
     ]
    }
   ],
   "source": [
    "for i in mycol.find({\"Place\" : \"Thoothukudi\"}):\n",
    "    print(i)"
   ]
  },
  {
   "cell_type": "code",
   "execution_count": 17,
   "id": "0bb16358",
   "metadata": {},
   "outputs": [
    {
     "name": "stdout",
     "output_type": "stream",
     "text": [
      "{'Name': 'Sethu', 'Place': 'Thoothukudi', 'Age': 68}\n",
      "{'Name': 'Raman', 'Place': 'Thoothukudi', 'Age': 56}\n"
     ]
    }
   ],
   "source": [
    "for i in mycol.find({\"Place\" : \"Thoothukudi\"},{'_id':0, \"Phone Number\":0}):\n",
    "    print(i)"
   ]
  },
  {
   "cell_type": "code",
   "execution_count": 38,
   "id": "742b900e",
   "metadata": {},
   "outputs": [
    {
     "name": "stdout",
     "output_type": "stream",
     "text": [
      "{'_id': ObjectId('63c817a2efeee3197b4dfbc6'), 'Name': 'Kalki', 'Phone Number': 1234567890, 'Place': 'Chennai', 'Age': 3}\n",
      "{'_id': ObjectId('63c817a2efeee3197b4dfbc7'), 'Name': 'Theeran', 'Phone Number': 1234567800, 'Place': 'Chennai', 'Age': 5}\n"
     ]
    }
   ],
   "source": [
    "q={\"Age\":{\"$lte\":5}}\n",
    "for i in mycol.find(q):\n",
    "    print(i)"
   ]
  },
  {
   "cell_type": "markdown",
   "id": "fc6c1da7",
   "metadata": {},
   "source": [
    "## Modify the records, use the update_one() method. The update_one() method requires two arguments, query and update."
   ]
  },
  {
   "cell_type": "code",
   "execution_count": 40,
   "id": "d0b3471c",
   "metadata": {},
   "outputs": [
    {
     "name": "stdout",
     "output_type": "stream",
     "text": [
      "{'_id': ObjectId('63c817a2efeee3197b4dfbc6'), 'Name': 'Kalki', 'Phone Number': 1234567890, 'Place': 'Chennai', 'Age': 10}\n",
      "{'_id': ObjectId('63c817a2efeee3197b4dfbc7'), 'Name': 'Theeran', 'Phone Number': 1234567800, 'Place': 'Chennai', 'Age': 5}\n",
      "{'_id': ObjectId('63c817a2efeee3197b4dfbc8'), 'Name': 'Sai', 'Phone Number': 1234567000, 'Place': 'Trichy', 'Age': 30}\n",
      "{'_id': ObjectId('63c817a2efeee3197b4dfbc9'), 'Name': 'Sundar', 'Phone Number': 1234560000, 'Place': 'Tirunelveli', 'Age': 32}\n",
      "{'_id': ObjectId('63c817a2efeee3197b4dfbca'), 'Name': 'Sethu', 'Phone Number': 1234500000, 'Place': 'Thoothukudi', 'Age': 68}\n",
      "{'_id': ObjectId('63c817a2efeee3197b4dfbcb'), 'Name': 'Raman', 'Phone Number': 1234000000, 'Place': 'Thoothukudi', 'Age': 56}\n",
      "{'_id': ObjectId('63c817a2efeee3197b4dfbcc'), 'Name': 'Subramanian', 'Phone Number': 1230000000, 'Place': 'Chennai', 'Age': 38}\n",
      "{'_id': ObjectId('63c817a2efeee3197b4dfbcd'), 'Name': 'Kalkandu', 'Phone Number': 12000000000, 'Place': 'Trichy', 'Age': 35}\n",
      "{'_id': ObjectId('63c817a2efeee3197b4dfbce'), 'Name': 'Subbu', 'Phone Number': 1000000000, 'Place': 'Thirunelveli', 'Age': 31}\n",
      "{'_id': ObjectId('63c817a2efeee3197b4dfbcf'), 'Name': 'Lakshmi', 'Phone Number': 1234567899, 'Place': 'Hyderabad', 'Age': 23}\n",
      "{'_id': ObjectId('63c817a2efeee3197b4dfbd0'), 'Name': 'Janaki', 'Phone Number': 1234567999, 'Place': 'Telengana', 'Age': 33}\n",
      "{'_id': ObjectId('63c817a2efeee3197b4dfbd1'), 'Name': 'Mirra', 'Phone Number': 1234569999, 'Place': 'Pune', 'Age': 34}\n"
     ]
    }
   ],
   "source": [
    "Q={'Name': 'Kalki'}\n",
    "New={\"$set\":{'Age': 10}}\n",
    "mycol.update_one(Q, New)\n",
    "for i in mycol.find():\n",
    "    print(i)\n"
   ]
  },
  {
   "cell_type": "code",
   "execution_count": 41,
   "id": "1577d3f8",
   "metadata": {},
   "outputs": [
    {
     "name": "stdout",
     "output_type": "stream",
     "text": [
      "{'_id': ObjectId('63c817a2efeee3197b4dfbc6'), 'Name': 'Kalki', 'Phone Number': 1234567890, 'Place': 'Chennai', 'Age': 30}\n",
      "{'_id': ObjectId('63c817a2efeee3197b4dfbc7'), 'Name': 'Theeran', 'Phone Number': 1234567800, 'Place': 'Chennai', 'Age': 30}\n",
      "{'_id': ObjectId('63c817a2efeee3197b4dfbc8'), 'Name': 'Sai', 'Phone Number': 1234567000, 'Place': 'Trichy', 'Age': 30}\n",
      "{'_id': ObjectId('63c817a2efeee3197b4dfbc9'), 'Name': 'Sundar', 'Phone Number': 1234560000, 'Place': 'Tirunelveli', 'Age': 32}\n",
      "{'_id': ObjectId('63c817a2efeee3197b4dfbca'), 'Name': 'Sethu', 'Phone Number': 1234500000, 'Place': 'Thoothukudi', 'Age': 68}\n",
      "{'_id': ObjectId('63c817a2efeee3197b4dfbcb'), 'Name': 'Raman', 'Phone Number': 1234000000, 'Place': 'Thoothukudi', 'Age': 56}\n",
      "{'_id': ObjectId('63c817a2efeee3197b4dfbcc'), 'Name': 'Subramanian', 'Phone Number': 1230000000, 'Place': 'Chennai', 'Age': 30}\n",
      "{'_id': ObjectId('63c817a2efeee3197b4dfbcd'), 'Name': 'Kalkandu', 'Phone Number': 12000000000, 'Place': 'Trichy', 'Age': 35}\n",
      "{'_id': ObjectId('63c817a2efeee3197b4dfbce'), 'Name': 'Subbu', 'Phone Number': 1000000000, 'Place': 'Thirunelveli', 'Age': 31}\n",
      "{'_id': ObjectId('63c817a2efeee3197b4dfbcf'), 'Name': 'Lakshmi', 'Phone Number': 1234567899, 'Place': 'Hyderabad', 'Age': 23}\n",
      "{'_id': ObjectId('63c817a2efeee3197b4dfbd0'), 'Name': 'Janaki', 'Phone Number': 1234567999, 'Place': 'Telengana', 'Age': 33}\n",
      "{'_id': ObjectId('63c817a2efeee3197b4dfbd1'), 'Name': 'Mirra', 'Phone Number': 1234569999, 'Place': 'Pune', 'Age': 34}\n"
     ]
    }
   ],
   "source": [
    "Q={'Place': 'Chennai'}\n",
    "New={\"$set\":{'Age': 30}}\n",
    "mycol.update_many(Q, New) # updates all chennai infos\n",
    "for i in mycol.find():\n",
    "    print(i)"
   ]
  },
  {
   "cell_type": "code",
   "execution_count": null,
   "id": "14d85101",
   "metadata": {},
   "outputs": [],
   "source": []
  },
  {
   "cell_type": "markdown",
   "id": "491f021d",
   "metadata": {},
   "source": [
    "## Delete the record, use delete_one() method. delete_one() requires a query parameter which specifies the document to delete.\n"
   ]
  },
  {
   "cell_type": "code",
   "execution_count": 43,
   "id": "a220dcd2",
   "metadata": {},
   "outputs": [
    {
     "name": "stdout",
     "output_type": "stream",
     "text": [
      "{'_id': ObjectId('63c817a2efeee3197b4dfbc6'), 'Name': 'Kalki', 'Phone Number': 1234567890, 'Place': 'Chennai', 'Age': 30}\n",
      "{'_id': ObjectId('63c817a2efeee3197b4dfbc7'), 'Name': 'Theeran', 'Phone Number': 1234567800, 'Place': 'Chennai', 'Age': 30}\n",
      "{'_id': ObjectId('63c817a2efeee3197b4dfbc8'), 'Name': 'Sai', 'Phone Number': 1234567000, 'Place': 'Trichy', 'Age': 30}\n",
      "{'_id': ObjectId('63c817a2efeee3197b4dfbc9'), 'Name': 'Sundar', 'Phone Number': 1234560000, 'Place': 'Tirunelveli', 'Age': 32}\n",
      "{'_id': ObjectId('63c817a2efeee3197b4dfbca'), 'Name': 'Sethu', 'Phone Number': 1234500000, 'Place': 'Thoothukudi', 'Age': 68}\n",
      "{'_id': ObjectId('63c817a2efeee3197b4dfbcb'), 'Name': 'Raman', 'Phone Number': 1234000000, 'Place': 'Thoothukudi', 'Age': 56}\n",
      "{'_id': ObjectId('63c817a2efeee3197b4dfbcc'), 'Name': 'Subramanian', 'Phone Number': 1230000000, 'Place': 'Chennai', 'Age': 30}\n",
      "{'_id': ObjectId('63c817a2efeee3197b4dfbcd'), 'Name': 'Kalkandu', 'Phone Number': 12000000000, 'Place': 'Trichy', 'Age': 35}\n",
      "{'_id': ObjectId('63c817a2efeee3197b4dfbce'), 'Name': 'Subbu', 'Phone Number': 1000000000, 'Place': 'Thirunelveli', 'Age': 31}\n",
      "{'_id': ObjectId('63c817a2efeee3197b4dfbcf'), 'Name': 'Lakshmi', 'Phone Number': 1234567899, 'Place': 'Hyderabad', 'Age': 23}\n",
      "{'_id': ObjectId('63c817a2efeee3197b4dfbd1'), 'Name': 'Mirra', 'Phone Number': 1234569999, 'Place': 'Pune', 'Age': 34}\n"
     ]
    }
   ],
   "source": [
    "mycol.delete_one({'Name': 'Janaki'})\n",
    "for i in mycol.find():\n",
    "    print(i)"
   ]
  },
  {
   "cell_type": "code",
   "execution_count": 44,
   "id": "1323faa7",
   "metadata": {},
   "outputs": [
    {
     "name": "stdout",
     "output_type": "stream",
     "text": [
      "{'_id': ObjectId('63c817a2efeee3197b4dfbc9'), 'Name': 'Sundar', 'Phone Number': 1234560000, 'Place': 'Tirunelveli', 'Age': 32}\n",
      "{'_id': ObjectId('63c817a2efeee3197b4dfbca'), 'Name': 'Sethu', 'Phone Number': 1234500000, 'Place': 'Thoothukudi', 'Age': 68}\n",
      "{'_id': ObjectId('63c817a2efeee3197b4dfbcb'), 'Name': 'Raman', 'Phone Number': 1234000000, 'Place': 'Thoothukudi', 'Age': 56}\n",
      "{'_id': ObjectId('63c817a2efeee3197b4dfbcd'), 'Name': 'Kalkandu', 'Phone Number': 12000000000, 'Place': 'Trichy', 'Age': 35}\n",
      "{'_id': ObjectId('63c817a2efeee3197b4dfbce'), 'Name': 'Subbu', 'Phone Number': 1000000000, 'Place': 'Thirunelveli', 'Age': 31}\n",
      "{'_id': ObjectId('63c817a2efeee3197b4dfbcf'), 'Name': 'Lakshmi', 'Phone Number': 1234567899, 'Place': 'Hyderabad', 'Age': 23}\n",
      "{'_id': ObjectId('63c817a2efeee3197b4dfbd1'), 'Name': 'Mirra', 'Phone Number': 1234569999, 'Place': 'Pune', 'Age': 34}\n"
     ]
    }
   ],
   "source": [
    "mycol.delete_many({'Age': 30})\n",
    "for i in mycol.find():\n",
    "    print(i)"
   ]
  },
  {
   "cell_type": "code",
   "execution_count": null,
   "id": "22522d9d",
   "metadata": {},
   "outputs": [],
   "source": []
  }
 ],
 "metadata": {
  "kernelspec": {
   "display_name": "Python 3 (ipykernel)",
   "language": "python",
   "name": "python3"
  },
  "language_info": {
   "codemirror_mode": {
    "name": "ipython",
    "version": 3
   },
   "file_extension": ".py",
   "mimetype": "text/x-python",
   "name": "python",
   "nbconvert_exporter": "python",
   "pygments_lexer": "ipython3",
   "version": "3.9.13"
  }
 },
 "nbformat": 4,
 "nbformat_minor": 5
}
